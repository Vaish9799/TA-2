{
 "cells": [
  {
   "cell_type": "markdown",
   "id": "430dba24",
   "metadata": {},
   "source": [
    "# Python program to reverse a number with explanation"
   ]
  },
  {
   "cell_type": "markdown",
   "id": "f40e0099",
   "metadata": {},
   "source": [
    "321\n",
    "if  we reverse this no \n",
    " 123"
   ]
  },
  {
   "cell_type": "code",
   "execution_count": 31,
   "id": "2630ee4a",
   "metadata": {},
   "outputs": [
    {
     "name": "stdout",
     "output_type": "stream",
     "text": [
      " Enter a  number :121\n",
      " before  reversing a no : 121\n",
      "reverse no: 121\n"
     ]
    }
   ],
   "source": [
    "n=int(input(\" Enter a  number :\")) # 1234 # n%10 = remainder \n",
    "print(\" before  reversing a no :\", n)\n",
    "r=0 # reverse number - store a value  - counter variable 123%10 =  3 \n",
    "while n!=0:# n=1- is not equal to 0 \n",
    "    r= r * 10 + n%10 # r= 432 * 10 + 1 = 4320+1= 4321\n",
    "    n=n//10 # 12//10 = 1.2= ignore point value= 1\n",
    "print(\"reverse no:\", r)\n"
   ]
  },
  {
   "cell_type": "code",
   "execution_count": 2,
   "id": "2169fb40",
   "metadata": {},
   "outputs": [
    {
     "name": "stdout",
     "output_type": "stream",
     "text": [
      " Enter a  number :123\n",
      " before  reversing a no : 123\n",
      "reverse no : 321\n"
     ]
    }
   ],
   "source": [
    "n=int(input(\" Enter a  number :\")) # 123 # n%10 = remainder \n",
    "print(\" before  reversing a no :\", n)\n",
    "s= int(str(n)[::-1])\n",
    "print(\"reverse no :\", s)"
   ]
  },
  {
   "cell_type": "code",
   "execution_count": 3,
   "id": "5537e432",
   "metadata": {},
   "outputs": [
    {
     "name": "stdout",
     "output_type": "stream",
     "text": [
      "Enter a number :123\n",
      "321"
     ]
    }
   ],
   "source": [
    "num = int(input(\"Enter a number :\"))\n",
    "temp= num\n",
    "count=0\n",
    "\n",
    "while temp!=0:\n",
    "    digit = temp%10\n",
    "    temp //=10\n",
    "    print(digit,end=\"\")\n",
    "    count +=1"
   ]
  },
  {
   "cell_type": "markdown",
   "id": "8862f598",
   "metadata": {},
   "source": [
    "# Armstrong number program"
   ]
  },
  {
   "cell_type": "markdown",
   "id": "c5bec0d3",
   "metadata": {},
   "source": [
    "- It is a number that is equal to the sum of its own digits raised to the power of the number of digits.\n",
    "- For eg: 153, is an Armstrong number because it has 3 digits, and 1^3 + 5^3 + 3^3 = 1 + 125 + 27 = 153\n",
    "\n",
    "Lets see it practically by calculating it,\n",
    "\n",
    "Suppose I am taking 153 for an example \n",
    "\n",
    "First calculate the cube of its each digits\n",
    "\n",
    "  1^3 = (1*1*1) = 1\n",
    "\n",
    "  5^3 = (5*5*5) = 125\n",
    "\n",
    "  3^3= (3*3*3) = 27\n",
    "  \n",
    "  \n",
    "  Now add the cube \n",
    "\n",
    "  1+125+27 = 153\n",
    "\n",
    "\n",
    "It means 153 is an Armstrong number\n",
    "\n",
    "- 153 is an Armstrong number because:\n",
    "\n",
    "   1^3 + 5^3 + 3^3 = 153\n",
    "\n",
    "\n",
    "- 371 is an Armstrong number because:\n",
    "\n",
    "   3^3 + 7^3 + 1^3 = 371\n",
    "- 407 is an Armstrong number because:\n",
    "\n",
    "    4^3 + 0^3 + 7^3 = 407\n",
    "- 1634 is an Armstrong number because:\n",
    "\n",
    "    1^4 + 6^4 + 3^4 + 4^4 = 1634\n",
    "- 8208 is an Armstrong number because:\n",
    "\n",
    "     8^4 + 2^4 + 0^4 + 8^4 = 8208\n",
    "\n"
   ]
  },
  {
   "cell_type": "code",
   "execution_count": 17,
   "id": "c1529c55",
   "metadata": {},
   "outputs": [
    {
     "name": "stdout",
     "output_type": "stream",
     "text": [
      " Enter  a number :123\n",
      "sum  36\n",
      "123 give no is not armstrong no \n"
     ]
    }
   ],
   "source": [
    "num=int(input(\" Enter  a number :\")) #153 \n",
    "s=0 # sum \n",
    "temp=num\n",
    "count=len(str(num)) # 3  # len()- length of string , list tuple or array\n",
    "while temp>0: # 1 > 0 \n",
    "    digit=temp%10  # 1 % 10= 1 \n",
    "    s+=digit**count # s= 27 + 1**  3 = 27+125 = 152 +1 =153\n",
    "    temp=temp//10 # 15//10=1.5=1\n",
    "print(\"sum \",s)\n",
    "if num==s: # 153== s(153)\n",
    "    print(num,\"given no  is armstrong no\")\n",
    "else:\n",
    "    print(num,\"give no is not armstrong no \")\n"
   ]
  },
  {
   "cell_type": "code",
   "execution_count": 18,
   "id": "649b1d0d",
   "metadata": {},
   "outputs": [
    {
     "name": "stdout",
     "output_type": "stream",
     "text": [
      "36\n"
     ]
    }
   ],
   "source": [
    "1**3 + 5** 3+ 3**3\n",
    "print(1**3+2**3+3**3)"
   ]
  },
  {
   "cell_type": "markdown",
   "id": "83a8541e",
   "metadata": {},
   "source": [
    "# Prime Number Program"
   ]
  },
  {
   "cell_type": "code",
   "execution_count": 26,
   "id": "5b925197",
   "metadata": {},
   "outputs": [
    {
     "name": "stdout",
     "output_type": "stream",
     "text": [
      " Enter a number:5\n",
      "5 is a prime no\n"
     ]
    }
   ],
   "source": [
    "# Whether a number is a prime no or not  \n",
    "n=int(input(\" Enter a number:\")) # 7 - 1 or 7- c= 2- counter \n",
    "c=0\n",
    "i=1\n",
    "while i<=n: # 8 <= 7\n",
    "    if n % i ==0: # 7 % 7= 0 \n",
    "        c+=1# c=c+1=1+1= 2 # c=2\n",
    "    i=i+1# i=7+1=8\n",
    "\n",
    "if c==2:\n",
    "    print(n,\"is a prime no\")\n",
    "else:\n",
    "    print(n,\"is not  a prime no\")"
   ]
  },
  {
   "cell_type": "code",
   "execution_count": 25,
   "id": "501847f5",
   "metadata": {},
   "outputs": [
    {
     "name": "stdout",
     "output_type": "stream",
     "text": [
      "please give a number : 13\n",
      "given number is prime\n"
     ]
    },
    {
     "data": {
      "text/plain": [
       "6"
      ]
     },
     "execution_count": 25,
     "metadata": {},
     "output_type": "execute_result"
    }
   ],
   "source": [
    "n = int(input(\"please give a number : \"))#13\n",
    "i,temp=0,0\n",
    "for i in range(2,n//2): # (2 to 6) \n",
    "    if n%i == 0:# 13%2!=0\n",
    "        temp=1\n",
    "        break\n",
    "if temp == 1:\n",
    "    print(\"given number is not prime\")\n",
    "else:\n",
    "    print(\"given number is prime\")\n"
   ]
  },
  {
   "cell_type": "markdown",
   "id": "f05e44f8",
   "metadata": {},
   "source": [
    "# Fibonacci series program"
   ]
  },
  {
   "cell_type": "markdown",
   "id": "61f3ebf5",
   "metadata": {},
   "source": [
    "A Fibonacci series is a series in which next number is a sum of previous two numbers\n",
    "\n",
    "For example : 0, 1, 1, 2, 3, 5, 8 ……"
   ]
  },
  {
   "cell_type": "markdown",
   "id": "8cbf14d3",
   "metadata": {},
   "source": [
    "In Fibonacci Series, first number starts with 0 and second is with 1 and then its grow like,\n",
    "\n",
    "0\n",
    "\n",
    "1\n",
    "\n",
    "0 + 1 = 1\n",
    "\n",
    "\n",
    "1 + 1 = 2\n",
    "\n",
    "1 + 2 = 3\n",
    "\n",
    "2 + 3 = 5 and so on"
   ]
  },
  {
   "cell_type": "code",
   "execution_count": 30,
   "id": "70a7a46d",
   "metadata": {},
   "outputs": [
    {
     "name": "stdout",
     "output_type": "stream",
     "text": [
      "enter a no:5\n",
      "0\n",
      "1\n",
      "1\n",
      "2\n",
      "3\n"
     ]
    }
   ],
   "source": [
    "n=int(input(\"enter a no:\")) #5 \n",
    "first,second= 0,1\n",
    "for i in range(0,n):#(0,4)\n",
    "    if i<=1:# 1<=1 # i=0,1 \n",
    "        result=i # 0, 1\n",
    "    else: # i= 2 To 4  i=4\n",
    "        result=first+second # 1+2=3\n",
    "        first=second # 1=2 =1\n",
    "        second=result # 1=3\n",
    "    print(result)\n",
    "        "
   ]
  },
  {
   "cell_type": "markdown",
   "id": "79ea233f",
   "metadata": {},
   "source": [
    "# Python program for palindrome "
   ]
  },
  {
   "cell_type": "code",
   "execution_count": 36,
   "id": "30d558ec",
   "metadata": {},
   "outputs": [
    {
     "name": "stdout",
     "output_type": "stream",
     "text": [
      " Enter a  number :111\n",
      " before  reversing a no : 111\n",
      "reverse no: 111\n",
      "palindrome \n"
     ]
    }
   ],
   "source": [
    "n=int(input(\" Enter a  number :\"))\n",
    "temp=n\n",
    "print(\" before  reversing a no :\", n)\n",
    "r=0 \n",
    "while n!=0:\n",
    "    r= r * 10 + n%10 \n",
    "    n=n//10 \n",
    "print(\"reverse no:\", r)\n",
    "if r==temp:\n",
    "    print(\"palindrome \")\n",
    "else:\n",
    "    print(\"not palindrome\")"
   ]
  },
  {
   "cell_type": "markdown",
   "id": "ec0ce109",
   "metadata": {},
   "source": [
    "A Palindrome number is a number which reverse is equal to the original number means number itself.\n",
    "\n",
    "\n",
    "For example : 121, 111, 1223221, etc.\n",
    "\n",
    "In the above example you can see that 121 is a palindrome number. Because reverse of the 121 is same as 121"
   ]
  },
  {
   "cell_type": "markdown",
   "id": "1be994d5",
   "metadata": {},
   "source": [
    "# Perfect number"
   ]
  },
  {
   "cell_type": "markdown",
   "id": "978f0e0f",
   "metadata": {},
   "source": [
    "A perfect number is a positive integer that is equal to the sum of its positive divisors, excluding the number itself.\n",
    "\n",
    "Lets understand it with example\n",
    "\n",
    "6 is a positive number and its divisor is 1,2,3 and 6 itself."
   ]
  },
  {
   "cell_type": "code",
   "execution_count": 39,
   "id": "0ce9bc9f",
   "metadata": {},
   "outputs": [
    {
     "name": "stdout",
     "output_type": "stream",
     "text": [
      " enter a number:7\n",
      "sum of divisors: 1\n",
      "not perfect no \n"
     ]
    }
   ],
   "source": [
    "n=int(input(\" enter a number:\")) # 6\n",
    "s=0 # counter\n",
    "for i in range(1,(n//2)+1):# (1, 4)\n",
    "    rem=n%i # 6 % 3! =0 # remainder\n",
    "    if rem==0:# 0==0\n",
    "        s=s+i #s=3+3=6\n",
    "print(\"sum of divisors:\", s)\n",
    "if s==n: # 6==6\n",
    "    print(\"perfect no\")\n",
    "else:\n",
    "    print(\"not perfect no \") "
   ]
  },
  {
   "cell_type": "markdown",
   "id": "2e1095cf",
   "metadata": {},
   "source": [
    "But we should not include 6 as by the definition of perfect number.\n",
    "\n",
    "Lets add its divisor excluding itself\n",
    "\n",
    "1+2+3 = 6 which is equal to number itself."
   ]
  },
  {
   "cell_type": "markdown",
   "id": "55ffb8c2",
   "metadata": {},
   "source": [
    "# Program for Sum the digits of a given number"
   ]
  },
  {
   "cell_type": "markdown",
   "id": "684a77ac",
   "metadata": {},
   "source": [
    "Given a number and the task is to find sum of digits of this number in Python. \n",
    "Examples: \n",
    " \n",
    "\n",
    "- Input : n = 87 \n",
    "    Output : 15 \n",
    "- Input : n = 111 \n",
    "    Output : 3"
   ]
  },
  {
   "cell_type": "code",
   "execution_count": 43,
   "id": "911df787",
   "metadata": {},
   "outputs": [
    {
     "name": "stdout",
     "output_type": "stream",
     "text": [
      "Enter a number:14\n",
      "1\n",
      "4\n",
      "sum of a digits of a number: 5\n"
     ]
    }
   ],
   "source": [
    "# 52= 5+2= 7\n",
    "n=int(input(\"Enter a number:\"))\n",
    "s=0 # - store a sum of digits of a number\n",
    "for i  in str(n):\n",
    "    print(i)# i=4\n",
    "    s=s+int(i)# s=0+i=1+4=5\n",
    "print(\"sum of a digits of a number:\",s)"
   ]
  },
  {
   "cell_type": "code",
   "execution_count": 49,
   "id": "8e647568",
   "metadata": {},
   "outputs": [
    {
     "name": "stdout",
     "output_type": "stream",
     "text": [
      "25\n",
      "10\n",
      "nohtyp\n"
     ]
    }
   ],
   "source": [
    "num = int(input()) # 25\n",
    "prod = 1\n",
    "temp = num\n",
    "while num!=0:# 2!=0\n",
    "    digit = num%10  # 2 % 10 \n",
    "    prod = prod*digit # ( 5 * 2 )=10\n",
    "    num //=10 #  25//10=2 \n",
    "print(prod)\n",
    "str1=\"python\"\n",
    "print(str1[::-1])"
   ]
  },
  {
   "cell_type": "markdown",
   "id": "78638f73",
   "metadata": {},
   "source": [
    "# Product of  digits in an given number"
   ]
  },
  {
   "cell_type": "code",
   "execution_count": null,
   "id": "a6e5d14e",
   "metadata": {},
   "outputs": [],
   "source": [
    " # To find sum of squares of a digits in a number\n",
    "# to findsum of cubes of a digits in a number\n",
    "# write a program to find sum of even and odd digits in a given number.\n",
    "# factorial of a given number"
   ]
  }
 ],
 "metadata": {
  "kernelspec": {
   "display_name": "Python 3 (ipykernel)",
   "language": "python",
   "name": "python3"
  },
  "language_info": {
   "codemirror_mode": {
    "name": "ipython",
    "version": 3
   },
   "file_extension": ".py",
   "mimetype": "text/x-python",
   "name": "python",
   "nbconvert_exporter": "python",
   "pygments_lexer": "ipython3",
   "version": "3.9.13"
  }
 },
 "nbformat": 4,
 "nbformat_minor": 5
}
